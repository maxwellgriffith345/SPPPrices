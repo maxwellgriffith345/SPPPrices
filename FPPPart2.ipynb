{
 "cells": [
  {
   "cell_type": "markdown",
   "id": "c0ad8647",
   "metadata": {},
   "source": [
    "## Time Series Regression Models"
   ]
  },
  {
   "cell_type": "code",
   "execution_count": null,
   "id": "af05ec96",
   "metadata": {},
   "outputs": [],
   "source": [
    "import pandas as pd\n",
    "import numpy as np\n",
    "import seaborn as sns\n",
    "%matplotlib inline\n",
    "import matplotlib.pyplot as plt\n",
    "from datetime import datetime"
   ]
  },
  {
   "cell_type": "code",
   "execution_count": null,
   "id": "3d1bb691",
   "metadata": {},
   "outputs": [],
   "source": [
    "#parse datetime with timezone\n",
    "def parse_datetime_with_timezone(dt_str):\n",
    "    datetime_str = dt_str[:-3] + dt_str[-2:]\n",
    "    return pd.to_datetime(datetime_str, utc=True, format=\"%Y-%m-%d %H:%M:%S%z\")\n",
    "\n",
    "# RE-Write without using \"date_parser\"\n",
    "df = pd.read_csv(\"LMPSWide2023.csv\", parse_dates=['Time'], date_parser=parse_datetime_with_timezone, index_col='Time')\n",
    "\n",
    "# If your CSV already has timezone information, you can specify it during parsing\n",
    "# df = pd.read_csv('data.csv', parse_dates=['timestamp'], index_col='timestamp', date_parser=parse_datetime_with_timezone, tz='America/New_York')\n",
    "\n",
    "# Make sure this is the right timezone \n",
    "df.index = df.index.tz_convert('America/New_York')  # Adjust timezone as per your data\n",
    "\n",
    "#Set the frequency\n",
    "#we need to do this before using in STL \n",
    "df= df.asfreq(freq='h')"
   ]
  },
  {
   "cell_type": "code",
   "execution_count": null,
   "id": "5d86f0ca",
   "metadata": {},
   "outputs": [],
   "source": [
    "df.drop(columns=[\"KCPLIATANUNIAT2\",\"KCPLLACYGNEUNLAC2\",\"SECI.KCPS.CIMARRON\", \"WR.LEC.4\", \"WR.JEC.2\", \"WR.JEC.3\", \"SECI.KCPS.CIMARRON\"], inplace=True)"
   ]
  }
 ],
 "metadata": {
  "kernelspec": {
   "display_name": "learn",
   "language": "python",
   "name": "learn"
  },
  "language_info": {
   "codemirror_mode": {
    "name": "ipython",
    "version": 3
   },
   "file_extension": ".py",
   "mimetype": "text/x-python",
   "name": "python",
   "nbconvert_exporter": "python",
   "pygments_lexer": "ipython3",
   "version": "3.12.4"
  }
 },
 "nbformat": 4,
 "nbformat_minor": 5
}
